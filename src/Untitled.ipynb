{
 "cells": [
  {
   "cell_type": "code",
   "execution_count": 3,
   "metadata": {},
   "outputs": [],
   "source": [
    "import cleaning_data"
   ]
  },
  {
   "cell_type": "code",
   "execution_count": 4,
   "metadata": {},
   "outputs": [
    {
     "data": {
      "text/plain": [
       "{'11': 'Avda. Ramón y Cajal',\n",
       " '16': 'Arturo Soria',\n",
       " '17': 'Villaverde Alto',\n",
       " '18': 'C/Farolillo',\n",
       " '24': 'Casa de Campo',\n",
       " '27': 'Barajas',\n",
       " '35': 'Plaza del Carmen',\n",
       " '36': 'Moratalaz',\n",
       " '38': 'Cuatro Caminos',\n",
       " '39': 'Barrio del Pilar',\n",
       " '4': 'Pza. de España',\n",
       " '40': 'Vallecas',\n",
       " '47': 'Mendez Alvaro',\n",
       " '48': 'Paseo Castellana',\n",
       " '49': 'Retiro',\n",
       " '50': 'Plaza Castilla',\n",
       " '54': 'Ensanche Vallecas',\n",
       " '55': 'Urb. Embajada (Barajas)',\n",
       " '56': 'Plaza Elíptica',\n",
       " '57': 'Sanchinarro',\n",
       " '58': 'El Pardo',\n",
       " '59': 'Parque Juan Carlos I',\n",
       " '60': 'Tres Olivos',\n",
       " '8': 'Escuelas Aguirre'}"
      ]
     },
     "execution_count": 4,
     "metadata": {},
     "output_type": "execute_result"
    }
   ],
   "source": [
    "cleaning_data.listado_estaciones"
   ]
  },
  {
   "cell_type": "code",
   "execution_count": null,
   "metadata": {},
   "outputs": [],
   "source": []
  }
 ],
 "metadata": {
  "kernelspec": {
   "display_name": "Python 3",
   "language": "python",
   "name": "python3"
  },
  "language_info": {
   "codemirror_mode": {
    "name": "ipython",
    "version": 3
   },
   "file_extension": ".py",
   "mimetype": "text/x-python",
   "name": "python",
   "nbconvert_exporter": "python",
   "pygments_lexer": "ipython3",
   "version": "3.6.9"
  }
 },
 "nbformat": 4,
 "nbformat_minor": 2
}
